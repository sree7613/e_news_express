{
 "cells": [
  {
   "cell_type": "markdown",
   "id": "97d85972-d46f-487e-be51-aff2655a96c3",
   "metadata": {
    "scrolled": true
   },
   "source": [
    "## Context\n",
    "E-News Express is an online news portal which is aiming to expand its business by acquiring new subscribers.The design team has created a new landing page that has a new outline & more relevant content compared to the old page.Data Science team conducted an experiment by randomly selecting 100 users and dividing them equally into two groups and they have given a dataset that contains user ID, the time spent on each webpage , whether the user gets converted or not, what is the landing page, language chosen by the user to view landing page.The aim is to explore the data and perform a statistical analysis to determine the effectiveness of the new landing page in gathering new subscribers.\n"
   ]
  },
  {
   "cell_type": "markdown",
   "id": "3e0c65b3-0971-4d2a-990d-8ff5828c2f66",
   "metadata": {},
   "source": [
    "## Data Description:\n",
    "\n",
    "The detailed data dictionary is given below:\n",
    "\n",
    "* user_id - Unique user ID of the person visiting the website\n",
    "* group - Whether the user belongs to the first group (control) or the second group (treatment)\n",
    "* landing_page - Whether the landing page is new or old\n",
    "* time_spent_on_the_page - Time (in minutes) spent by the user on the landing page\n",
    "* converted - Whether the user gets converted to a subscriber of the news portal or not\n",
    "* language_preferred - Language chosen by the user to view the landing page"
   ]
  },
  {
   "cell_type": "markdown",
   "id": "a18967ac-02c0-4be4-83ca-d3c8be6f18f5",
   "metadata": {},
   "source": [
    "## Questions to be answered using given dataset are as follows:\n",
    "1. Do the users spend more time on the new landing page than on the existing landing page?\n",
    "2. Is the conversion rate (the proportion of users who visit the landing page and get converted) for the new page greater than the conversion rate for the old page?\n",
    "3. Does the converted status depend on the preferred language?\n",
    "4. Is the time spent on the new page the same for the different language users?"
   ]
  },
  {
   "cell_type": "markdown",
   "id": "8ea8546b-da2b-43bc-a9e9-f1c72375be32",
   "metadata": {},
   "source": [
    "### Sanity Checks"
   ]
  },
  {
   "cell_type": "markdown",
   "id": "9dfde875-6b53-4240-a6f3-3201950a91e4",
   "metadata": {},
   "source": [
    "**Importing necessary libraries**"
   ]
  },
  {
   "cell_type": "code",
   "execution_count": 115,
   "id": "24bacc5f-ed78-4f09-88b6-34bcdb3bf192",
   "metadata": {},
   "outputs": [],
   "source": [
    "#Import necessary libraries\n",
    "import pandas as pd\n",
    "import numpy as np\n",
    "from matplotlib import pyplot as plt\n",
    "import seaborn as sns"
   ]
  },
  {
   "cell_type": "markdown",
   "id": "39170838-75cb-4308-9140-d563632e4fbe",
   "metadata": {},
   "source": [
    "**Importing the dataset**"
   ]
  },
  {
   "cell_type": "code",
   "execution_count": 116,
   "id": "f8cc97c9-be64-414a-a40c-2be0b639c658",
   "metadata": {},
   "outputs": [],
   "source": [
    "#read given dataset file \n",
    "data = pd.read_csv('abtest.csv')"
   ]
  },
  {
   "cell_type": "markdown",
   "id": "df90ed22-5895-4a16-a9af-af65a98a30a7",
   "metadata": {},
   "source": [
    "**View first and last 5 rows of the dataset**"
   ]
  },
  {
   "cell_type": "code",
   "execution_count": 117,
   "id": "da05be89-a78f-4443-8147-f98295ec4647",
   "metadata": {},
   "outputs": [
    {
     "data": {
      "text/html": [
       "<div>\n",
       "<style scoped>\n",
       "    .dataframe tbody tr th:only-of-type {\n",
       "        vertical-align: middle;\n",
       "    }\n",
       "\n",
       "    .dataframe tbody tr th {\n",
       "        vertical-align: top;\n",
       "    }\n",
       "\n",
       "    .dataframe thead th {\n",
       "        text-align: right;\n",
       "    }\n",
       "</style>\n",
       "<table border=\"1\" class=\"dataframe\">\n",
       "  <thead>\n",
       "    <tr style=\"text-align: right;\">\n",
       "      <th></th>\n",
       "      <th>user_id</th>\n",
       "      <th>group</th>\n",
       "      <th>landing_page</th>\n",
       "      <th>time_spent_on_the_page</th>\n",
       "      <th>converted</th>\n",
       "      <th>language_preferred</th>\n",
       "    </tr>\n",
       "  </thead>\n",
       "  <tbody>\n",
       "    <tr>\n",
       "      <th>0</th>\n",
       "      <td>546592</td>\n",
       "      <td>control</td>\n",
       "      <td>old</td>\n",
       "      <td>3.48</td>\n",
       "      <td>no</td>\n",
       "      <td>Spanish</td>\n",
       "    </tr>\n",
       "    <tr>\n",
       "      <th>1</th>\n",
       "      <td>546468</td>\n",
       "      <td>treatment</td>\n",
       "      <td>new</td>\n",
       "      <td>7.13</td>\n",
       "      <td>yes</td>\n",
       "      <td>English</td>\n",
       "    </tr>\n",
       "    <tr>\n",
       "      <th>2</th>\n",
       "      <td>546462</td>\n",
       "      <td>treatment</td>\n",
       "      <td>new</td>\n",
       "      <td>4.40</td>\n",
       "      <td>no</td>\n",
       "      <td>Spanish</td>\n",
       "    </tr>\n",
       "    <tr>\n",
       "      <th>3</th>\n",
       "      <td>546567</td>\n",
       "      <td>control</td>\n",
       "      <td>old</td>\n",
       "      <td>3.02</td>\n",
       "      <td>no</td>\n",
       "      <td>French</td>\n",
       "    </tr>\n",
       "    <tr>\n",
       "      <th>4</th>\n",
       "      <td>546459</td>\n",
       "      <td>treatment</td>\n",
       "      <td>new</td>\n",
       "      <td>4.75</td>\n",
       "      <td>yes</td>\n",
       "      <td>Spanish</td>\n",
       "    </tr>\n",
       "  </tbody>\n",
       "</table>\n",
       "</div>"
      ],
      "text/plain": [
       "   user_id      group landing_page  time_spent_on_the_page converted  \\\n",
       "0   546592    control          old                    3.48        no   \n",
       "1   546468  treatment          new                    7.13       yes   \n",
       "2   546462  treatment          new                    4.40        no   \n",
       "3   546567    control          old                    3.02        no   \n",
       "4   546459  treatment          new                    4.75       yes   \n",
       "\n",
       "  language_preferred  \n",
       "0            Spanish  \n",
       "1            English  \n",
       "2            Spanish  \n",
       "3             French  \n",
       "4            Spanish  "
      ]
     },
     "execution_count": 117,
     "metadata": {},
     "output_type": "execute_result"
    }
   ],
   "source": [
    "#Show first 5 rows of the dataset\n",
    "data.head()"
   ]
  },
  {
   "cell_type": "code",
   "execution_count": 118,
   "id": "8b75cec8-ff79-4d7c-ab26-2875a0407a62",
   "metadata": {},
   "outputs": [
    {
     "data": {
      "text/html": [
       "<div>\n",
       "<style scoped>\n",
       "    .dataframe tbody tr th:only-of-type {\n",
       "        vertical-align: middle;\n",
       "    }\n",
       "\n",
       "    .dataframe tbody tr th {\n",
       "        vertical-align: top;\n",
       "    }\n",
       "\n",
       "    .dataframe thead th {\n",
       "        text-align: right;\n",
       "    }\n",
       "</style>\n",
       "<table border=\"1\" class=\"dataframe\">\n",
       "  <thead>\n",
       "    <tr style=\"text-align: right;\">\n",
       "      <th></th>\n",
       "      <th>user_id</th>\n",
       "      <th>group</th>\n",
       "      <th>landing_page</th>\n",
       "      <th>time_spent_on_the_page</th>\n",
       "      <th>converted</th>\n",
       "      <th>language_preferred</th>\n",
       "    </tr>\n",
       "  </thead>\n",
       "  <tbody>\n",
       "    <tr>\n",
       "      <th>95</th>\n",
       "      <td>546446</td>\n",
       "      <td>treatment</td>\n",
       "      <td>new</td>\n",
       "      <td>5.15</td>\n",
       "      <td>no</td>\n",
       "      <td>Spanish</td>\n",
       "    </tr>\n",
       "    <tr>\n",
       "      <th>96</th>\n",
       "      <td>546544</td>\n",
       "      <td>control</td>\n",
       "      <td>old</td>\n",
       "      <td>6.52</td>\n",
       "      <td>yes</td>\n",
       "      <td>English</td>\n",
       "    </tr>\n",
       "    <tr>\n",
       "      <th>97</th>\n",
       "      <td>546472</td>\n",
       "      <td>treatment</td>\n",
       "      <td>new</td>\n",
       "      <td>7.07</td>\n",
       "      <td>yes</td>\n",
       "      <td>Spanish</td>\n",
       "    </tr>\n",
       "    <tr>\n",
       "      <th>98</th>\n",
       "      <td>546481</td>\n",
       "      <td>treatment</td>\n",
       "      <td>new</td>\n",
       "      <td>6.20</td>\n",
       "      <td>yes</td>\n",
       "      <td>Spanish</td>\n",
       "    </tr>\n",
       "    <tr>\n",
       "      <th>99</th>\n",
       "      <td>546483</td>\n",
       "      <td>treatment</td>\n",
       "      <td>new</td>\n",
       "      <td>5.86</td>\n",
       "      <td>yes</td>\n",
       "      <td>English</td>\n",
       "    </tr>\n",
       "  </tbody>\n",
       "</table>\n",
       "</div>"
      ],
      "text/plain": [
       "    user_id      group landing_page  time_spent_on_the_page converted  \\\n",
       "95   546446  treatment          new                    5.15        no   \n",
       "96   546544    control          old                    6.52       yes   \n",
       "97   546472  treatment          new                    7.07       yes   \n",
       "98   546481  treatment          new                    6.20       yes   \n",
       "99   546483  treatment          new                    5.86       yes   \n",
       "\n",
       "   language_preferred  \n",
       "95            Spanish  \n",
       "96            English  \n",
       "97            Spanish  \n",
       "98            Spanish  \n",
       "99            English  "
      ]
     },
     "execution_count": 118,
     "metadata": {},
     "output_type": "execute_result"
    }
   ],
   "source": [
    "#Show last 5 rows of the dataset\n",
    "data.tail()"
   ]
  },
  {
   "cell_type": "markdown",
   "id": "e1f5a9fc-47c2-41b3-bcb9-beb5e7899204",
   "metadata": {},
   "source": [
    "**Understand the shape of the dataset**"
   ]
  },
  {
   "cell_type": "code",
   "execution_count": 119,
   "id": "61e89515-3fa7-4139-a98e-0e54da3d8d74",
   "metadata": {},
   "outputs": [
    {
     "name": "stdout",
     "output_type": "stream",
     "text": [
      "There are 100 rows and 6 columns.\n"
     ]
    }
   ],
   "source": [
    "#Rows and columns of the dataset\n",
    "data.shape\n",
    "print(\"There are\", data.shape[0], 'rows and', data.shape[1], \"columns.\")"
   ]
  },
  {
   "cell_type": "markdown",
   "id": "2791ec98-5861-4613-b557-915f1de04e12",
   "metadata": {},
   "source": [
    "**Check the data types of the columns for the dataset**"
   ]
  },
  {
   "cell_type": "code",
   "execution_count": 120,
   "id": "316d32fc-d9f4-4be9-9689-e0b4ae6bab7b",
   "metadata": {},
   "outputs": [
    {
     "name": "stdout",
     "output_type": "stream",
     "text": [
      "<class 'pandas.core.frame.DataFrame'>\n",
      "RangeIndex: 100 entries, 0 to 99\n",
      "Data columns (total 6 columns):\n",
      " #   Column                  Non-Null Count  Dtype  \n",
      "---  ------                  --------------  -----  \n",
      " 0   user_id                 100 non-null    int64  \n",
      " 1   group                   100 non-null    object \n",
      " 2   landing_page            100 non-null    object \n",
      " 3   time_spent_on_the_page  100 non-null    float64\n",
      " 4   converted               100 non-null    object \n",
      " 5   language_preferred      100 non-null    object \n",
      "dtypes: float64(1), int64(1), object(4)\n",
      "memory usage: 4.8+ KB\n"
     ]
    }
   ],
   "source": [
    "#check the columns, datatypes of dataset\n",
    "data.info()"
   ]
  },
  {
   "cell_type": "markdown",
   "id": "37aec01f-4c5f-473a-a26c-0aabfb09a055",
   "metadata": {},
   "source": [
    "* There are 2 numerical columns and 4 object type columns\n",
    "* group, landing_page, converted and language_preferred columns are object type variables\n",
    "* time_spent_on_the_page is a float type variable\n",
    "* user_id is a int type variable"
   ]
  },
  {
   "cell_type": "markdown",
   "id": "2b07f964-8653-4891-a504-249505949ed8",
   "metadata": {},
   "source": [
    "**Understand what values are there for each object type**"
   ]
  },
  {
   "cell_type": "code",
   "execution_count": 121,
   "id": "82d689be-bbfc-4556-b8b7-24a070220f1f",
   "metadata": {},
   "outputs": [
    {
     "data": {
      "text/plain": [
       "array(['control', 'treatment'], dtype=object)"
      ]
     },
     "execution_count": 121,
     "metadata": {},
     "output_type": "execute_result"
    }
   ],
   "source": [
    "#find unique values for group column\n",
    "data['group'].unique()"
   ]
  },
  {
   "cell_type": "code",
   "execution_count": 122,
   "id": "85e31b6b-92bf-4e36-a3bd-b090acc8697e",
   "metadata": {},
   "outputs": [
    {
     "data": {
      "text/plain": [
       "array(['old', 'new'], dtype=object)"
      ]
     },
     "execution_count": 122,
     "metadata": {},
     "output_type": "execute_result"
    }
   ],
   "source": [
    "#find unique values for landing_page column\n",
    "data['landing_page'].unique()"
   ]
  },
  {
   "cell_type": "code",
   "execution_count": 123,
   "id": "28db52fb-5d99-45b1-840a-4b51eb48763a",
   "metadata": {},
   "outputs": [
    {
     "data": {
      "text/plain": [
       "array(['no', 'yes'], dtype=object)"
      ]
     },
     "execution_count": 123,
     "metadata": {},
     "output_type": "execute_result"
    }
   ],
   "source": [
    "#find unique values for converted column\n",
    "data['converted'].unique()"
   ]
  },
  {
   "cell_type": "code",
   "execution_count": 124,
   "id": "c7478419-6953-4c59-9052-ba03ca0d3905",
   "metadata": {},
   "outputs": [
    {
     "data": {
      "text/plain": [
       "array(['Spanish', 'English', 'French'], dtype=object)"
      ]
     },
     "execution_count": 124,
     "metadata": {},
     "output_type": "execute_result"
    }
   ],
   "source": [
    "#find unique values for language_preferred column\n",
    "data['language_preferred'].unique()"
   ]
  },
  {
   "cell_type": "markdown",
   "id": "6d333bb9-c6ac-41bd-a494-b27b1929803d",
   "metadata": {},
   "source": [
    "**Check if there are missing values**"
   ]
  },
  {
   "cell_type": "code",
   "execution_count": 125,
   "id": "8b52a88d-d3e2-460b-a81a-063c79e5eaac",
   "metadata": {},
   "outputs": [
    {
     "data": {
      "text/plain": [
       "user_id                   0\n",
       "group                     0\n",
       "landing_page              0\n",
       "time_spent_on_the_page    0\n",
       "converted                 0\n",
       "language_preferred        0\n",
       "dtype: int64"
      ]
     },
     "execution_count": 125,
     "metadata": {},
     "output_type": "execute_result"
    }
   ],
   "source": [
    "#check if any values are missing\n",
    "data.isnull().sum()"
   ]
  },
  {
   "cell_type": "markdown",
   "id": "49e5e548-8495-47dd-ba5e-3ea1f300ba87",
   "metadata": {},
   "source": [
    "* There is no missing data"
   ]
  },
  {
   "cell_type": "markdown",
   "id": "66581a0e-2b2d-48d7-aecf-3fb9df85f847",
   "metadata": {},
   "source": [
    "**Check for any duplicate entries**"
   ]
  },
  {
   "cell_type": "code",
   "execution_count": 126,
   "id": "c0fd53a2-06de-4c51-a914-04936a670172",
   "metadata": {},
   "outputs": [
    {
     "data": {
      "text/plain": [
       "0"
      ]
     },
     "execution_count": 126,
     "metadata": {},
     "output_type": "execute_result"
    }
   ],
   "source": [
    "#check if any duplicates are there\n",
    "data.duplicated().sum()"
   ]
  },
  {
   "cell_type": "markdown",
   "id": "361f4f8e-0f27-42a2-9b16-6e8fd40d5faf",
   "metadata": {},
   "source": [
    "* There are no duplicate entries in  the data"
   ]
  },
  {
   "cell_type": "markdown",
   "id": "0e49075a-ec5e-4067-ac9a-fa7accc80627",
   "metadata": {},
   "source": [
    "**Checking the statistical summary of the data** "
   ]
  },
  {
   "cell_type": "code",
   "execution_count": 127,
   "id": "3ef69a1d-cab6-4445-aac4-02c3d81edc62",
   "metadata": {},
   "outputs": [
    {
     "data": {
      "text/html": [
       "<div>\n",
       "<style scoped>\n",
       "    .dataframe tbody tr th:only-of-type {\n",
       "        vertical-align: middle;\n",
       "    }\n",
       "\n",
       "    .dataframe tbody tr th {\n",
       "        vertical-align: top;\n",
       "    }\n",
       "\n",
       "    .dataframe thead th {\n",
       "        text-align: right;\n",
       "    }\n",
       "</style>\n",
       "<table border=\"1\" class=\"dataframe\">\n",
       "  <thead>\n",
       "    <tr style=\"text-align: right;\">\n",
       "      <th></th>\n",
       "      <th>user_id</th>\n",
       "      <th>time_spent_on_the_page</th>\n",
       "    </tr>\n",
       "  </thead>\n",
       "  <tbody>\n",
       "    <tr>\n",
       "      <th>count</th>\n",
       "      <td>100.000000</td>\n",
       "      <td>100.000000</td>\n",
       "    </tr>\n",
       "    <tr>\n",
       "      <th>mean</th>\n",
       "      <td>546517.000000</td>\n",
       "      <td>5.377800</td>\n",
       "    </tr>\n",
       "    <tr>\n",
       "      <th>std</th>\n",
       "      <td>52.295779</td>\n",
       "      <td>2.378166</td>\n",
       "    </tr>\n",
       "    <tr>\n",
       "      <th>min</th>\n",
       "      <td>546443.000000</td>\n",
       "      <td>0.190000</td>\n",
       "    </tr>\n",
       "    <tr>\n",
       "      <th>25%</th>\n",
       "      <td>546467.750000</td>\n",
       "      <td>3.880000</td>\n",
       "    </tr>\n",
       "    <tr>\n",
       "      <th>50%</th>\n",
       "      <td>546492.500000</td>\n",
       "      <td>5.415000</td>\n",
       "    </tr>\n",
       "    <tr>\n",
       "      <th>75%</th>\n",
       "      <td>546567.250000</td>\n",
       "      <td>7.022500</td>\n",
       "    </tr>\n",
       "    <tr>\n",
       "      <th>max</th>\n",
       "      <td>546592.000000</td>\n",
       "      <td>10.710000</td>\n",
       "    </tr>\n",
       "  </tbody>\n",
       "</table>\n",
       "</div>"
      ],
      "text/plain": [
       "             user_id  time_spent_on_the_page\n",
       "count     100.000000              100.000000\n",
       "mean   546517.000000                5.377800\n",
       "std        52.295779                2.378166\n",
       "min    546443.000000                0.190000\n",
       "25%    546467.750000                3.880000\n",
       "50%    546492.500000                5.415000\n",
       "75%    546567.250000                7.022500\n",
       "max    546592.000000               10.710000"
      ]
     },
     "execution_count": 127,
     "metadata": {},
     "output_type": "execute_result"
    }
   ],
   "source": [
    "#Describe the numerical columns\n",
    "data.describe()"
   ]
  },
  {
   "cell_type": "markdown",
   "id": "2e092f8f-111f-45d4-8395-e2c26ea98e6c",
   "metadata": {},
   "source": [
    "**Summary**\n",
    "* user_id: There are 100 users,  average userid is 546517, Smallest userid is 546443 and largest userid is 546592.\n",
    "* time_spent_on_the_page: The average time spent on the page is approximately 5.377 minutes, The minimum time spent is 0.19 minutes and the maximum time spent is 10.71 minutes\n",
    "* The data suggests a typical range of user engagement with the page, with most users spending between about 3.88 and 7.0225 minutes."
   ]
  },
  {
   "cell_type": "markdown",
   "id": "b704f2b2-7cc7-48d4-849f-95d6260d29b9",
   "metadata": {},
   "source": [
    "**Let's check the count and percentage of categorical levels in each column**"
   ]
  },
  {
   "cell_type": "code",
   "execution_count": 168,
   "id": "681a07ed-36a4-4b1a-ba39-f0277e81f5bf",
   "metadata": {},
   "outputs": [
    {
     "data": {
      "text/html": [
       "<div>\n",
       "<style scoped>\n",
       "    .dataframe tbody tr th:only-of-type {\n",
       "        vertical-align: middle;\n",
       "    }\n",
       "\n",
       "    .dataframe tbody tr th {\n",
       "        vertical-align: top;\n",
       "    }\n",
       "\n",
       "    .dataframe thead th {\n",
       "        text-align: right;\n",
       "    }\n",
       "</style>\n",
       "<table border=\"1\" class=\"dataframe\">\n",
       "  <thead>\n",
       "    <tr style=\"text-align: right;\">\n",
       "      <th></th>\n",
       "      <th>group</th>\n",
       "      <th>landing_page</th>\n",
       "      <th>converted</th>\n",
       "      <th>language_preferred</th>\n",
       "    </tr>\n",
       "  </thead>\n",
       "  <tbody>\n",
       "    <tr>\n",
       "      <th>count</th>\n",
       "      <td>100</td>\n",
       "      <td>100</td>\n",
       "      <td>100</td>\n",
       "      <td>100</td>\n",
       "    </tr>\n",
       "    <tr>\n",
       "      <th>unique</th>\n",
       "      <td>2</td>\n",
       "      <td>2</td>\n",
       "      <td>2</td>\n",
       "      <td>3</td>\n",
       "    </tr>\n",
       "    <tr>\n",
       "      <th>top</th>\n",
       "      <td>control</td>\n",
       "      <td>old</td>\n",
       "      <td>yes</td>\n",
       "      <td>Spanish</td>\n",
       "    </tr>\n",
       "    <tr>\n",
       "      <th>freq</th>\n",
       "      <td>50</td>\n",
       "      <td>50</td>\n",
       "      <td>54</td>\n",
       "      <td>34</td>\n",
       "    </tr>\n",
       "  </tbody>\n",
       "</table>\n",
       "</div>"
      ],
      "text/plain": [
       "          group landing_page converted language_preferred\n",
       "count       100          100       100                100\n",
       "unique        2            2         2                  3\n",
       "top     control          old       yes            Spanish\n",
       "freq         50           50        54                 34"
      ]
     },
     "execution_count": 168,
     "metadata": {},
     "output_type": "execute_result"
    }
   ],
   "source": [
    "#describe the data that has datatype object\n",
    "data.describe(include='object')"
   ]
  },
  {
   "cell_type": "code",
   "execution_count": 129,
   "id": "2628fee0-528b-4e53-abd5-27d7abaef26b",
   "metadata": {},
   "outputs": [
    {
     "name": "stdout",
     "output_type": "stream",
     "text": [
      "group\n",
      "control      50\n",
      "treatment    50\n",
      "Name: count, dtype: int64\n",
      "--------------------------------------------------\n",
      "landing_page\n",
      "old    50\n",
      "new    50\n",
      "Name: count, dtype: int64\n",
      "--------------------------------------------------\n",
      "converted\n",
      "yes    54\n",
      "no     46\n",
      "Name: count, dtype: int64\n",
      "--------------------------------------------------\n",
      "language_preferred\n",
      "Spanish    34\n",
      "French     34\n",
      "English    32\n",
      "Name: count, dtype: int64\n",
      "--------------------------------------------------\n"
     ]
    }
   ],
   "source": [
    "# Making a list of all categorical variables\n",
    "cat_cols =  ['group', 'landing_page', 'converted', 'language_preferred']\n",
    "\n",
    "# Printing the count of unique categorical levels in each column\n",
    "for column in cat_cols:\n",
    "    print(data[column].value_counts())\n",
    "    print(\"-\" * 50)"
   ]
  },
  {
   "cell_type": "markdown",
   "id": "1124a7d5-c597-46e6-a5b6-3fa55107413d",
   "metadata": {},
   "source": [
    "**Summary**\n",
    "* group: 2 unique values - 'control' with 50 values and 'treatment' with 50 values\n",
    "* landing_page: 2 unique values - 'old' with 50 values and 'new' with 50 values\n",
    "* converted: 2 unique values - 'yes' with 54 values and 'no' with 46 values\n",
    "* language_preferred: 3 unique values - 'Spanish' with 34 values, 'French' with 34 values, 'English' with 32 values"
   ]
  },
  {
   "cell_type": "markdown",
   "id": "1447ae55-43d6-4d26-98bc-c330bc7d610d",
   "metadata": {},
   "source": [
    "### Univariate Analysis"
   ]
  },
  {
   "cell_type": "markdown",
   "id": "ccf17b43-6233-4375-8856-2c07be2019f7",
   "metadata": {},
   "source": [
    "**Let's check the distribution for numerical columns.**"
   ]
  },
  {
   "cell_type": "markdown",
   "id": "4381363e-d8d0-43ef-8236-9d68ba478eff",
   "metadata": {},
   "source": [
    "**Observations on time_spent_on_the_page**"
   ]
  },
  {
   "cell_type": "code",
   "execution_count": 130,
   "id": "1fb2bfd9-b3bc-4442-8a15-3b6c7d1290f0",
   "metadata": {},
   "outputs": [
    {
     "data": {
      "image/png": "[encoded data removed]",
      "text/plain": [
       "<Figure size 640x480 with 1 Axes>"
      ]
     },
     "metadata": {},
     "output_type": "display_data"
    }
   ],
   "source": [
    "#Draw distribution of time_spent_on_the_page variable\n",
    "sns.histplot(data=data,x='time_spent_on_the_page')\n",
    "plt.show()"
   ]
  },
  {
   "cell_type": "code",
   "execution_count": 131,
   "id": "182f3b29-2e7e-449e-b930-dc9fc9fcb54c",
   "metadata": {},
   "outputs": [
    {
     "data": {
      "image/png": "[encoded data removed]",
      "text/plain": [
       "<Figure size 640x480 with 1 Axes>"
      ]
     },
     "metadata": {},
     "output_type": "display_data"
    }
   ],
   "source": [
    "#Draw distribution of time_spent_on_the_page variable to see if there are any outliers\n",
    "sns.boxplot(data=data,x='time_spent_on_the_page')\n",
    "plt.show()"
   ]
  },
  {
   "cell_type": "markdown",
   "id": "70b6893a-9a2a-43c3-aab0-b7d94e5e469c",
   "metadata": {},
   "source": [
    "* There are no outliers for time_spent_on_the_page attribute and is normally distributed"
   ]
  },
  {
   "cell_type": "markdown",
   "id": "eff7f04e-5397-4608-b6f3-ea27bd17b008",
   "metadata": {},
   "source": [
    "**Observations on group**"
   ]
  },
  {
   "cell_type": "code",
   "execution_count": 132,
   "id": "df924a0f-7bb4-4c3b-9467-b086f0905122",
   "metadata": {},
   "outputs": [
    {
     "data": {
      "image/png": "[encoded data removed]",
      "text/plain": [
       "<Figure size 640x480 with 1 Axes>"
      ]
     },
     "metadata": {},
     "output_type": "display_data"
    }
   ],
   "source": [
    "#Draw distribution of group variable to understand counts\n",
    "sns.countplot(data=data,x='group', hue='group', palette='viridis')\n",
    "plt.show()"
   ]
  },
  {
   "cell_type": "markdown",
   "id": "7ee22071-e257-43c2-89eb-4593e85cea22",
   "metadata": {},
   "source": [
    "* control and treatement groups are equally distributed in the sample"
   ]
  },
  {
   "cell_type": "markdown",
   "id": "09c45a0d-9c60-417b-a811-48cbd888d3cc",
   "metadata": {},
   "source": [
    "**Observations on landing_page**"
   ]
  },
  {
   "cell_type": "code",
   "execution_count": 133,
   "id": "8d3370df-b8db-4256-89ac-538be486b6d7",
   "metadata": {},
   "outputs": [
    {
     "data": {
      "image/png": "[encoded data removed]",
      "text/plain": [
       "<Figure size 640x480 with 1 Axes>"
      ]
     },
     "metadata": {},
     "output_type": "display_data"
    }
   ],
   "source": [
    "#Draw distribution of landing_page variable to understand counts\n",
    "sns.countplot(data=data,x='landing_page', hue='landing_page', palette='viridis')\n",
    "plt.show()"
   ]
  },
  {
   "cell_type": "markdown",
   "id": "2c8dee6f-2334-47f2-9af9-58b6cbcf7214",
   "metadata": {},
   "source": [
    "* old and new pages are equally distributed in the sample"
   ]
  },
  {
   "cell_type": "markdown",
   "id": "98b44640-6a08-4c96-a638-c5e26c609d58",
   "metadata": {},
   "source": [
    "**Observations on converted**"
   ]
  },
  {
   "cell_type": "code",
   "execution_count": 134,
   "id": "4f8ea293-e49f-46e8-9966-202f73454503",
   "metadata": {},
   "outputs": [
    {
     "data": {
      "image/png": "[encoded data removed]",
      "text/plain": [
       "<Figure size 640x480 with 1 Axes>"
      ]
     },
     "metadata": {},
     "output_type": "display_data"
    }
   ],
   "source": [
    "#Draw distribution of converted variable to understand counts\n",
    "sns.countplot(data=data,x='converted', hue='converted', palette='viridis')\n",
    "plt.show()"
   ]
  },
  {
   "cell_type": "markdown",
   "id": "b799b7e0-229e-41cc-acfe-b2fb334eaf1c",
   "metadata": {},
   "source": [
    "* There is increase in conversion to new page compared to old page "
   ]
  },
  {
   "cell_type": "markdown",
   "id": "010969c4-3b72-4a3c-a516-e666cbcbe4e5",
   "metadata": {},
   "source": [
    "**Observations on language_preferred**"
   ]
  },
  {
   "cell_type": "code",
   "execution_count": 135,
   "id": "99728e4c-d88c-40a3-a4f1-8abda7771eee",
   "metadata": {},
   "outputs": [
    {
     "data": {
      "image/png": "[encoded data removed]",
      "text/plain": [
       "<Figure size 640x480 with 1 Axes>"
      ]
     },
     "metadata": {},
     "output_type": "display_data"
    }
   ],
   "source": [
    "#Draw distribution of language_preferred variable to understand counts\n",
    "# Custom palette\n",
    "custom_palette = ['#ff9999', '#66b3ff', '#99ff99', '#ffcc99']\n",
    "sns.countplot(data=data,x='language_preferred',  hue='language_preferred', palette='viridis')\n",
    "plt.show()"
   ]
  },
  {
   "cell_type": "markdown",
   "id": "06e2ce07-608b-4d4c-b2bc-9209d098a032",
   "metadata": {},
   "source": [
    "* Spanish and French has equal entries compared to English which is slightly lower than the other two"
   ]
  },
  {
   "cell_type": "markdown",
   "id": "d3eaea84-2a1a-44a0-af33-210fd37a09bb",
   "metadata": {},
   "source": [
    "### Bivariate Analysis"
   ]
  },
  {
   "cell_type": "markdown",
   "id": "2a4256cf-231c-449c-8bd1-9152292d128d",
   "metadata": {},
   "source": [
    "**Lets understand heatmap**"
   ]
  },
  {
   "cell_type": "code",
   "execution_count": 136,
   "id": "2f2cf7a5-ac8c-4245-89f6-c1df0631c0b2",
   "metadata": {},
   "outputs": [
    {
     "data": {
      "image/png": "[encoded data removed]",
      "text/plain": [
       "<Figure size 1000x500 with 2 Axes>"
      ]
     },
     "metadata": {},
     "output_type": "display_data"
    }
   ],
   "source": [
    "#As correlation can be done for only numeric columns, lets exclude non numeric columns\n",
    "non_numeric_columns = data.select_dtypes(exclude=['number']).columns\n",
    "numeric_data = data.drop(columns=non_numeric_columns)\n",
    "plt.figure(figsize=(10,5))\n",
    "#draw heatmap\n",
    "sns.heatmap(numeric_data.corr(),annot=True,cmap='Spectral',vmin=-1,vmax=1)\n",
    "plt.show()"
   ]
  },
  {
   "cell_type": "code",
   "execution_count": 137,
   "id": "9d4befe7-2271-4d05-8ae7-09dfc5985b40",
   "metadata": {},
   "outputs": [
    {
     "data": {
      "text/html": [
       "<div>\n",
       "<style scoped>\n",
       "    .dataframe tbody tr th:only-of-type {\n",
       "        vertical-align: middle;\n",
       "    }\n",
       "\n",
       "    .dataframe tbody tr th {\n",
       "        vertical-align: top;\n",
       "    }\n",
       "\n",
       "    .dataframe thead th {\n",
       "        text-align: right;\n",
       "    }\n",
       "</style>\n",
       "<table border=\"1\" class=\"dataframe\">\n",
       "  <thead>\n",
       "    <tr style=\"text-align: right;\">\n",
       "      <th></th>\n",
       "      <th>user_id</th>\n",
       "      <th>time_spent_on_the_page</th>\n",
       "    </tr>\n",
       "  </thead>\n",
       "  <tbody>\n",
       "    <tr>\n",
       "      <th>user_id</th>\n",
       "      <td>1.000000</td>\n",
       "      <td>-0.372868</td>\n",
       "    </tr>\n",
       "    <tr>\n",
       "      <th>time_spent_on_the_page</th>\n",
       "      <td>-0.372868</td>\n",
       "      <td>1.000000</td>\n",
       "    </tr>\n",
       "  </tbody>\n",
       "</table>\n",
       "</div>"
      ],
      "text/plain": [
       "                         user_id  time_spent_on_the_page\n",
       "user_id                 1.000000               -0.372868\n",
       "time_spent_on_the_page -0.372868                1.000000"
      ]
     },
     "execution_count": 137,
     "metadata": {},
     "output_type": "execute_result"
    }
   ],
   "source": [
    "#see the correlation values in tabular format\n",
    "numeric_data.corr()"
   ]
  },
  {
   "cell_type": "markdown",
   "id": "f8ed61b3-6f2a-4675-a97b-2ca2a5f8e3cb",
   "metadata": {},
   "source": [
    "**Let's check time_spent_on_the_page w.r.to group**"
   ]
  },
  {
   "cell_type": "code",
   "execution_count": 138,
   "id": "02e8bbd4-9491-49a7-9d62-c94e2e1402f6",
   "metadata": {},
   "outputs": [
    {
     "data": {
      "image/png": "[encoded data removed]",
      "text/plain": [
       "<Figure size 640x480 with 1 Axes>"
      ]
     },
     "metadata": {},
     "output_type": "display_data"
    }
   ],
   "source": [
    "#Draw barplot to understand relation between group and time_spent_on_the_page\n",
    "sns.barplot(data = data, x = 'group', y = 'time_spent_on_the_page', hue='group', palette='viridis')\n",
    "plt.show()"
   ]
  },
  {
   "cell_type": "code",
   "execution_count": 139,
   "id": "4478ad80-ffbb-4107-83ec-0647871f21ef",
   "metadata": {},
   "outputs": [
    {
     "data": {
      "image/png": "[encoded data removed]",
      "text/plain": [
       "<Figure size 640x480 with 1 Axes>"
      ]
     },
     "metadata": {},
     "output_type": "display_data"
    }
   ],
   "source": [
    "#Draw boxplot of group and time_spent_on_the_page variable to see if there are any outliers\n",
    "sns.boxplot(data=data,x = 'group', y='time_spent_on_the_page',hue='group', palette='viridis')\n",
    "plt.show()"
   ]
  },
  {
   "cell_type": "markdown",
   "id": "013ae9bc-5622-4204-a6c8-782423980724",
   "metadata": {},
   "source": [
    "* The plot shows treatment group are spending more time on the page compared to control group"
   ]
  },
  {
   "cell_type": "markdown",
   "id": "dceb8100-b0cf-4bc2-935c-e97863e3d93f",
   "metadata": {},
   "source": [
    "**Let's check time_spent_on_the_page w.r.to landing_page**"
   ]
  },
  {
   "cell_type": "code",
   "execution_count": 140,
   "id": "f4f9cb81-057d-49e2-8709-7b03a96faae8",
   "metadata": {},
   "outputs": [
    {
     "data": {
      "image/png": "[encoded data removed]",
      "text/plain": [
       "<Figure size 640x480 with 1 Axes>"
      ]
     },
     "metadata": {},
     "output_type": "display_data"
    }
   ],
   "source": [
    "# Draw barplot to understand relation between landing_page and the time spent on the page\n",
    "sns.barplot(data = data, x = 'landing_page', y = 'time_spent_on_the_page', hue='landing_page', palette='viridis')\n",
    "plt.show()"
   ]
  },
  {
   "cell_type": "code",
   "execution_count": 141,
   "id": "db91bdea-3620-4cf2-9607-680a99342881",
   "metadata": {},
   "outputs": [
    {
     "data": {
      "image/png": "[encoded data removed]",
      "text/plain": [
       "<Figure size 640x480 with 1 Axes>"
      ]
     },
     "metadata": {},
     "output_type": "display_data"
    }
   ],
   "source": [
    "#Draw boxplot of landing_page and time_spent_on_the_page variable to see if there are any outliers\n",
    "sns.boxplot(data=data,x = 'landing_page', y='time_spent_on_the_page',hue='landing_page', palette='viridis')\n",
    "plt.show()"
   ]
  },
  {
   "cell_type": "markdown",
   "id": "b6b3958f-4565-4847-836c-0d4342845f1d",
   "metadata": {},
   "source": [
    "* Users are spending more time on new landing page compared to the users that are exposed to old landing page"
   ]
  },
  {
   "cell_type": "markdown",
   "id": "d247529a-358f-49f5-a5c8-69c77b737be7",
   "metadata": {},
   "source": [
    "**Let's check time_spent_on_the_page w.r.to converted**"
   ]
  },
  {
   "cell_type": "code",
   "execution_count": 142,
   "id": "af32fbe6-a2f0-4eca-922c-c5469a7fad0a",
   "metadata": {},
   "outputs": [
    {
     "data": {
      "image/png": "[encoded data removed]",
      "text/plain": [
       "<Figure size 640x480 with 1 Axes>"
      ]
     },
     "metadata": {},
     "output_type": "display_data"
    }
   ],
   "source": [
    "# Draw barplot to understand relation between conversion and the time spent on the page\n",
    "sns.barplot(data = data, x = 'converted', y = 'time_spent_on_the_page', hue='converted', palette='viridis')\n",
    "plt.show()"
   ]
  },
  {
   "cell_type": "code",
   "execution_count": 143,
   "id": "340dd67c-640b-4606-9ac2-614e28f2cd2b",
   "metadata": {},
   "outputs": [
    {
     "data": {
      "image/png": "[encoded data removed]",
      "text/plain": [
       "<Figure size 640x480 with 1 Axes>"
      ]
     },
     "metadata": {},
     "output_type": "display_data"
    }
   ],
   "source": [
    "#Draw boxplot of converted and time_spent_on_the_page variable to see if there are any outliers\n",
    "sns.boxplot(data=data,x = 'converted', y='time_spent_on_the_page',hue='converted', palette='viridis')\n",
    "plt.show()"
   ]
  },
  {
   "cell_type": "markdown",
   "id": "fb5ae44d-b9f7-401a-803f-2381b9c48da6",
   "metadata": {},
   "source": [
    "* Users that are converted are spending more time on the page than earlier "
   ]
  },
  {
   "cell_type": "markdown",
   "id": "afc8b053-7933-4e83-ac98-d146b0bae042",
   "metadata": {},
   "source": [
    "**Let's check time_spent_on_the_page w.r.to language_preferred**"
   ]
  },
  {
   "cell_type": "code",
   "execution_count": 144,
   "id": "35f6e4ca-3fef-4fe0-90a8-143f252c57ee",
   "metadata": {},
   "outputs": [
    {
     "data": {
      "image/png": "[encoded data removed]",
      "text/plain": [
       "<Figure size 640x480 with 1 Axes>"
      ]
     },
     "metadata": {},
     "output_type": "display_data"
    }
   ],
   "source": [
    "# Draw barplot to understand relation between language_preferred and the time spent on the page\n",
    "sns.barplot(data = data, x = 'language_preferred', y = 'time_spent_on_the_page', hue='language_preferred', palette='viridis')\n",
    "plt.show()"
   ]
  },
  {
   "cell_type": "code",
   "execution_count": 145,
   "id": "2e11c667-e9d7-4431-a35b-6d568f4cf59a",
   "metadata": {},
   "outputs": [
    {
     "data": {
      "image/png": "[encoded data removed]",
      "text/plain": [
       "<Figure size 640x480 with 1 Axes>"
      ]
     },
     "metadata": {},
     "output_type": "display_data"
    }
   ],
   "source": [
    "#Draw boxplot of language_preferred and time_spent_on_the_page variable to see if there are any outliers\n",
    "sns.boxplot(data=data,x = 'language_preferred', y='time_spent_on_the_page',hue='language_preferred', palette='viridis')\n",
    "plt.show()"
   ]
  },
  {
   "cell_type": "markdown",
   "id": "5f404452-e544-4128-82f9-b192b68ec2ad",
   "metadata": {},
   "source": [
    "* Users that are using Spanish are spending slightly lesser time on the page than other languages."
   ]
  },
  {
   "cell_type": "markdown",
   "id": "00003959-7adb-49d1-9218-4b0f56eed180",
   "metadata": {},
   "source": [
    "**Lets understand categorical plot for identifying behaviour of users**"
   ]
  },
  {
   "cell_type": "code",
   "execution_count": 146,
   "id": "b575c2f8-31c4-49cb-87bf-4f6b0350d5b7",
   "metadata": {},
   "outputs": [
    {
     "data": {
      "image/png": "[encoded data removed]",
      "text/plain": [
       "<Figure size 1081.36x500 with 2 Axes>"
      ]
     },
     "metadata": {},
     "output_type": "display_data"
    }
   ],
   "source": [
    "#Draw categorical plot between language_preferred, converted, group\n",
    "sns.catplot(data = data, x = 'language_preferred', hue = 'converted', col = 'group', kind = 'count')\n",
    "plt.show()"
   ]
  },
  {
   "cell_type": "markdown",
   "id": "3b281ecd-4c2d-4719-a4d0-394750fe58a1",
   "metadata": {},
   "source": [
    "* In the control group, users who prefer French that are switched to the new landing page are very less.\n",
    "However, in the treatment group, a higher number of French-preferred users have transitioned to the new landing page"
   ]
  },
  {
   "cell_type": "code",
   "execution_count": 147,
   "id": "df6e510e-7afa-4d7a-b3b5-8a5a1763e608",
   "metadata": {},
   "outputs": [
    {
     "data": {
      "image/png": "[encoded data removed]",
      "text/plain": [
       "<Figure size 1081.36x500 with 2 Axes>"
      ]
     },
     "metadata": {},
     "output_type": "display_data"
    }
   ],
   "source": [
    "#Draw categorical plot between language_preferred, converted, landing_page\n",
    "sns.catplot(data = data, x = 'language_preferred', hue = 'converted', col = 'landing_page', kind = 'count')\n",
    "plt.show()"
   ]
  },
  {
   "cell_type": "markdown",
   "id": "0c9b6f97-a252-40ce-b24b-b920971f43ed",
   "metadata": {},
   "source": [
    "* Users of all languages have converted to new landing page, of them French seems to be having higher number in conversion"
   ]
  },
  {
   "cell_type": "markdown",
   "id": "bbc9d826-a00e-4444-ad9e-d770a2042477",
   "metadata": {},
   "source": [
    "**Lets understand relation between numerical varaible -time_spent_on_the_page and categorical variables group,converted**\n"
   ]
  },
  {
   "cell_type": "code",
   "execution_count": 148,
   "id": "4a6ac91b-3b76-4319-a822-a1dd6bbf069b",
   "metadata": {},
   "outputs": [
    {
     "data": {
      "image/png": "[encoded data removed]",
      "text/plain": [
       "<Figure size 640x480 with 1 Axes>"
      ]
     },
     "metadata": {},
     "output_type": "display_data"
    }
   ],
   "source": [
    "#Draw barplot for group, time_spent_on_the_page, converted\n",
    "sns.barplot(data = data, x = 'group', y = 'time_spent_on_the_page', hue = 'converted');\n",
    "plt.show()"
   ]
  },
  {
   "cell_type": "markdown",
   "id": "c03f81b6-80a3-4a17-b8de-b3b329ea835f",
   "metadata": {},
   "source": [
    "* Users of group treatment have spent more time on the page and have high converted rate compated to contorl group"
   ]
  },
  {
   "cell_type": "markdown",
   "id": "d9ae25da-80ad-446c-86ad-81957ce86af6",
   "metadata": {},
   "source": [
    "**Lets understand relation between numerical varaible -time_spent_on_the_page and categorical variables language_preferred,landing_page**"
   ]
  },
  {
   "cell_type": "code",
   "execution_count": 149,
   "id": "9a2f9672-a8b0-4556-addb-cdea84c1fb76",
   "metadata": {},
   "outputs": [
    {
     "data": {
      "image/png": "[encoded data removed]",
      "text/plain": [
       "<Figure size 640x480 with 1 Axes>"
      ]
     },
     "metadata": {},
     "output_type": "display_data"
    }
   ],
   "source": [
    "#Draw barplot for language_preferred, time_spent_on_the_page, landing_page\n",
    "sns.barplot(data = data, x = 'landing_page', y = 'time_spent_on_the_page', hue = 'language_preferred');\n",
    "plt.show()"
   ]
  },
  {
   "cell_type": "markdown",
   "id": "53220874-9034-4724-89f8-134d7cda8e25",
   "metadata": {},
   "source": [
    "* Users who preferred English are slightly high in number for new landing page \n",
    "* Users with all languages that spent more time on page are converted to new landing page"
   ]
  },
  {
   "cell_type": "markdown",
   "id": "86b54106-6747-4be9-b99c-5772cef085e7",
   "metadata": {},
   "source": [
    "### Do the users spend more time on the new landing page than the old landing page?"
   ]
  },
  {
   "cell_type": "markdown",
   "id": "2867d475-9a14-444b-8a0a-276fe8c78320",
   "metadata": {},
   "source": [
    "**Perform Visual Analysis**"
   ]
  },
  {
   "cell_type": "code",
   "execution_count": 150,
   "id": "3f361f2a-2348-47d3-818e-16bd47e968d8",
   "metadata": {},
   "outputs": [
    {
     "data": {
      "image/png": "[encoded data removed]",
      "text/plain": [
       "<Figure size 640x480 with 1 Axes>"
      ]
     },
     "metadata": {},
     "output_type": "display_data"
    }
   ],
   "source": [
    "# Draw box plot to understand time spent on landing pages\n",
    "sns.boxplot(x = 'landing_page', y = 'time_spent_on_the_page', data = data, hue='landing_page', palette='viridis')\n",
    "plt.show()"
   ]
  },
  {
   "cell_type": "markdown",
   "id": "7cd7f296-7c79-4027-a80a-82e434f9e1ee",
   "metadata": {},
   "source": [
    "* Users are spending more time on new landing page than older one"
   ]
  },
  {
   "cell_type": "markdown",
   "id": "f12eff12-2786-4c2a-94f0-bbf39d04d8f1",
   "metadata": {},
   "source": [
    "**Formulate null and alternative hypothesis**"
   ]
  },
  {
   "cell_type": "markdown",
   "id": "b49e92b1-26ca-4db0-8cbb-e050ecdd3546",
   "metadata": {},
   "source": [
    "Let $\\mu_1, \\mu_2$ be the mean time spent on new and old landing pages respectively\n",
    "\n",
    "Null hypothesis\n",
    "\n",
    ">$H_0:\\mu_1=\\mu_2$\n",
    "\n",
    "Alternative hypothesis\n",
    "\n",
    ">$H_a:\\mu_1>\\mu_2$"
   ]
  },
  {
   "cell_type": "markdown",
   "id": "728cd374-9bac-4c83-b66d-b0edf671cea5",
   "metadata": {},
   "source": [
    "**Identifying test scenario**"
   ]
  },
  {
   "cell_type": "markdown",
   "id": "af67672d-01ea-41e1-aadc-a9a5967298c2",
   "metadata": {},
   "source": [
    "This scenario involves a one-tailed two-sample mean test. Since the two samples are independent and the population standard deviations are unknown, the best test to use is the independent t-test."
   ]
  },
  {
   "cell_type": "markdown",
   "id": "f3ae58b5-4b53-498f-88ec-97c6190a410e",
   "metadata": {},
   "source": [
    "**Calculate p value**"
   ]
  },
  {
   "cell_type": "markdown",
   "id": "7fd8c589-2508-4b37-93b2-d5b5e59c1fc0",
   "metadata": {},
   "source": [
    "Use level of significance=0.05"
   ]
  },
  {
   "cell_type": "code",
   "execution_count": 151,
   "id": "4cc792f9-c70e-4bce-9ae0-dbbe6e421096",
   "metadata": {},
   "outputs": [],
   "source": [
    "time_spent_for_new_page = data[data['landing_page']=='new']['time_spent_on_the_page']\n",
    "time_spent_for_old_page = data[data['landing_page']=='old']['time_spent_on_the_page']\n"
   ]
  },
  {
   "cell_type": "code",
   "execution_count": 152,
   "id": "c77fef4a-8c84-4ddd-852e-edfdf0946931",
   "metadata": {},
   "outputs": [
    {
     "data": {
      "text/plain": [
       "0.000132"
      ]
     },
     "execution_count": 152,
     "metadata": {},
     "output_type": "execute_result"
    }
   ],
   "source": [
    "#use data for new and old landing pages time spent and Calculate the t-statistic, p-value\n",
    "from scipy import stats\n",
    "t_stat, p_value = stats.ttest_ind(time_spent_for_new_page, time_spent_for_old_page,  alternative = 'greater')\n",
    "p_value.round(6)"
   ]
  },
  {
   "cell_type": "markdown",
   "id": "d1323031-1ff5-4e99-9721-cbdcdd14bdb6",
   "metadata": {},
   "source": [
    "**Inference based on p-value**"
   ]
  },
  {
   "cell_type": "code",
   "execution_count": 153,
   "id": "822df5ba-ca37-4754-ba70-b31c79bb988b",
   "metadata": {},
   "outputs": [
    {
     "name": "stdout",
     "output_type": "stream",
     "text": [
      "p Value is less than 0.05 - Reject the null hypothesis\n",
      "We have enough statistical evidence to say that the users spend more time on new landing page compared to old landing page\n"
     ]
    }
   ],
   "source": [
    "# Compare the level of significance with calculated p value\n",
    "if p_value < 0.05:\n",
    "    print(\"p Value is less than 0.05 - Reject the null hypothesis\")\n",
    "    print(\"We have enough statistical evidence to say that the users spend more time on new landing page compared to old landing page\")\n",
    "else:\n",
    "    print(\"p Value is greater than 0.05 - Fail to reject the null hypothesis\")\n",
    "    print(\"We dont have enough statistical evidence to say that the users spend more time on new landing page compared to old landing page\")"
   ]
  },
  {
   "cell_type": "markdown",
   "id": "f5bad869-2493-4452-824f-a7df87d39764",
   "metadata": {},
   "source": [
    "* As the calculated p level is less than level of significance, we reject the null hypothesis and we have enough statistical evidence to mention that the users spend more time on new landing page compared to old landing page"
   ]
  },
  {
   "cell_type": "markdown",
   "id": "61334199-ce91-4a01-846d-2b21a683370c",
   "metadata": {},
   "source": [
    "### Is the conversion rate (the proportion of users who visit the landing page and get converted) for the new page greater than the conversion rate for the old page?"
   ]
  },
  {
   "cell_type": "markdown",
   "id": "f63f7fa2-3861-400a-9349-cd602cfebc7c",
   "metadata": {},
   "source": [
    "**Perform Visual Analysis**"
   ]
  },
  {
   "cell_type": "code",
   "execution_count": 154,
   "id": "6422045c-a6ff-40ca-b557-e2332d2a4530",
   "metadata": {},
   "outputs": [
    {
     "data": {
      "image/png": "[encoded data removed]",
      "text/plain": [
       "<Figure size 1000x500 with 2 Axes>"
      ]
     },
     "metadata": {},
     "output_type": "display_data"
    }
   ],
   "source": [
    "# Draw categorical plot to understand converted proportion on landing pages\n",
    "sns.catplot(x = 'converted', col = 'landing_page', data = data,  kind = 'count', palette = 'viridis', hue='converted')\n",
    "plt.show()"
   ]
  },
  {
   "cell_type": "markdown",
   "id": "2bc70c19-4d54-4772-b782-987aa7721f52",
   "metadata": {},
   "source": [
    "* Users that are using new landing page are likely to be converted than users who are using old landing page"
   ]
  },
  {
   "cell_type": "markdown",
   "id": "07eb8d71-0567-41b2-8536-a01885865cca",
   "metadata": {},
   "source": [
    "**Formulate null and alternative hypothesis**"
   ]
  },
  {
   "cell_type": "markdown",
   "id": "282b3471-107c-441d-acf5-c18bd35d3088",
   "metadata": {},
   "source": [
    "Let $p_1, p_2$ be the proportions of users in new landing page and old landing page respectively.\n",
    "\n",
    "Null hypothesis\n",
    "\n",
    ">$H_0:p_1=p_2$\n",
    "\n",
    "Alternative hypothesis\n",
    "\n",
    ">$H_a:p_1>p_2$"
   ]
  },
  {
   "cell_type": "markdown",
   "id": "f89af701-2bf5-4b2a-a2d6-2fe27fb9498d",
   "metadata": {},
   "source": [
    "**Identifying test scenario**"
   ]
  },
  {
   "cell_type": "markdown",
   "id": "d7cf82c0-9eb1-48b6-a955-0ce10578046a",
   "metadata": {},
   "source": [
    "This scenario involves a one-tailed two-population proportion test. Since the two populations are independent, the best test to use is two proportion z-test."
   ]
  },
  {
   "cell_type": "markdown",
   "id": "eca11e14-f666-49e3-a85a-e1723cafee37",
   "metadata": {},
   "source": [
    "**Calculate p-value**"
   ]
  },
  {
   "cell_type": "markdown",
   "id": "ebb949c3-635f-4b33-ae1c-3cfae7587365",
   "metadata": {},
   "source": [
    "Use level of significance =0.05"
   ]
  },
  {
   "cell_type": "code",
   "execution_count": 155,
   "id": "0964674e-8f6d-4327-bcc3-79080f7a67d6",
   "metadata": {},
   "outputs": [],
   "source": [
    "#Total number of converted users\n",
    "new_converted = len(data[(data['landing_page'] == 'new') & (data['converted'] == 'yes')])\n",
    "old_converted = len(data[(data['landing_page'] == 'old') & (data['converted'] == 'yes')])\n",
    "converted_size = np.array([new_converted, old_converted])\n",
    "\n",
    "#Total number of samples that were given for users sampling\n",
    "landing_page_new = len(data[data['landing_page'] == 'new'])\n",
    "landing_page_old = len(data[data['landing_page'] == 'old'])\n",
    "\n",
    "sample_size = np.array([landing_page_new, landing_page_old])\n"
   ]
  },
  {
   "cell_type": "code",
   "execution_count": 156,
   "id": "1cd3b13c-6c76-4bf8-812b-95929644a014",
   "metadata": {},
   "outputs": [
    {
     "data": {
      "text/plain": [
       "0.008026"
      ]
     },
     "execution_count": 156,
     "metadata": {},
     "output_type": "execute_result"
    }
   ],
   "source": [
    "# Use calculated values and data above to determing z test for proportions\n",
    "from statsmodels.stats.proportion import proportions_ztest\n",
    "\n",
    "test_stat, p_value = proportions_ztest(converted_size , sample_size, alternative ='larger') \n",
    "\n",
    "p_value.round(6)"
   ]
  },
  {
   "cell_type": "markdown",
   "id": "c2a3e509-1f6a-410f-8452-17c739542459",
   "metadata": {},
   "source": [
    "**Inference based on p value**"
   ]
  },
  {
   "cell_type": "code",
   "execution_count": 157,
   "id": "72fa1701-8556-4be3-8eb4-7067008685ea",
   "metadata": {},
   "outputs": [
    {
     "name": "stdout",
     "output_type": "stream",
     "text": [
      "calculated p Value is less than 0.05 - Reject the null hypothesis\n",
      "We have enough statistical evidence to say that the conversion rate of the new page is greater than the conversion rate of the old page\n"
     ]
    }
   ],
   "source": [
    "# Compare the level of significance with calculated p value\n",
    "if p_value < 0.05:\n",
    "    print(\"calculated p Value is less than 0.05 - Reject the null hypothesis\")\n",
    "    print(\"We have enough statistical evidence to say that the conversion rate of the new page is greater than the conversion rate of the old page\")\n",
    "else:\n",
    "    print(\"calculated p Value is greater than 0.05 - Fail to reject the null hypothesis\")\n",
    "    print(\"We dont have enough statistical evidence to say that the conversion rate of the new page is greater than the conversion rate of the old page\")"
   ]
  },
  {
   "cell_type": "markdown",
   "id": "a9f66570-8526-4fb3-813b-9c4aaae707f8",
   "metadata": {},
   "source": [
    "* As the calculated p level is less than level of significance, we reject the null hypothesis and we have enough statistical evidence to mention that the conversion rate of the new page is greater than the conversion rate of the old page"
   ]
  },
  {
   "cell_type": "markdown",
   "id": "e20cd078-8398-47c1-a6fa-5847dc3b7d31",
   "metadata": {},
   "source": [
    "### Does the converted status depend on the preferred language?"
   ]
  },
  {
   "cell_type": "markdown",
   "id": "366802d0-2481-4f6b-9f02-11cdcf079dbd",
   "metadata": {},
   "source": [
    "**Perform Visual Analysis**"
   ]
  },
  {
   "cell_type": "code",
   "execution_count": 158,
   "id": "27554ca1-b749-4af4-83dc-ac80653eb50d",
   "metadata": {},
   "outputs": [
    {
     "data": {
      "image/png": "[encoded data removed]",
      "text/plain": [
       "<Figure size 1500x500 with 3 Axes>"
      ]
     },
     "metadata": {},
     "output_type": "display_data"
    }
   ],
   "source": [
    "# Draw categorical plot to understand converted status w.r.to language_preferred\n",
    "sns.catplot(x = 'converted', col = 'language_preferred', data = data,  kind = 'count', palette = 'viridis', hue='converted')\n",
    "plt.show()"
   ]
  },
  {
   "cell_type": "markdown",
   "id": "c6ea86d8-610a-4c59-96a5-0a5d7d7cde28",
   "metadata": {},
   "source": [
    "* language_preferred and converted are 2 categorical columns which seems to be independent of each other,though there is slightly higher side of converted for English compared to other languages"
   ]
  },
  {
   "cell_type": "markdown",
   "id": "72a74a2f-c012-4a0b-80db-f4c3d5e2a612",
   "metadata": {},
   "source": [
    "**Formulate null and alternative hypothesis**"
   ]
  },
  {
   "cell_type": "markdown",
   "id": "fbeb865f-2e56-473b-8632-9c2e49c25276",
   "metadata": {},
   "source": [
    "Null hypothesis\n",
    "\n",
    ">$H_0:$= Converted and language_preferred is independent of each other\n",
    "\n",
    "Alternative hypothesis\n",
    "\n",
    ">$H_a:$= Converted and language_preferred are dependent on each other"
   ]
  },
  {
   "cell_type": "markdown",
   "id": "acf5a2a4-bb64-4976-8c60-22e5537df4c5",
   "metadata": {},
   "source": [
    "**Identifying test scenario**"
   ]
  },
  {
   "cell_type": "markdown",
   "id": "84a24966-d9ac-4b8c-8840-55ca3b48480e",
   "metadata": {},
   "source": [
    "* This scenario involves testing of independence of two categorical variables.Chi-square test of independence is the best test which helps to evaluate whether there is a significant association between two categorical variables."
   ]
  },
  {
   "cell_type": "markdown",
   "id": "9fa6aeb6-2b85-44bc-ab65-04e7982c69b6",
   "metadata": {},
   "source": [
    "**Calculate p-value**"
   ]
  },
  {
   "cell_type": "markdown",
   "id": "65f2ffbe-2e89-4896-890e-2d5350c5bc96",
   "metadata": {},
   "source": [
    "Use level of significance = 0.05"
   ]
  },
  {
   "cell_type": "code",
   "execution_count": 159,
   "id": "a0951753-26b9-4bbb-88a5-a5f0961bc3b6",
   "metadata": {},
   "outputs": [
    {
     "data": {
      "text/html": [
       "<div>\n",
       "<style scoped>\n",
       "    .dataframe tbody tr th:only-of-type {\n",
       "        vertical-align: middle;\n",
       "    }\n",
       "\n",
       "    .dataframe tbody tr th {\n",
       "        vertical-align: top;\n",
       "    }\n",
       "\n",
       "    .dataframe thead th {\n",
       "        text-align: right;\n",
       "    }\n",
       "</style>\n",
       "<table border=\"1\" class=\"dataframe\">\n",
       "  <thead>\n",
       "    <tr style=\"text-align: right;\">\n",
       "      <th>converted</th>\n",
       "      <th>no</th>\n",
       "      <th>yes</th>\n",
       "    </tr>\n",
       "    <tr>\n",
       "      <th>language_preferred</th>\n",
       "      <th></th>\n",
       "      <th></th>\n",
       "    </tr>\n",
       "  </thead>\n",
       "  <tbody>\n",
       "    <tr>\n",
       "      <th>English</th>\n",
       "      <td>11</td>\n",
       "      <td>21</td>\n",
       "    </tr>\n",
       "    <tr>\n",
       "      <th>French</th>\n",
       "      <td>19</td>\n",
       "      <td>15</td>\n",
       "    </tr>\n",
       "    <tr>\n",
       "      <th>Spanish</th>\n",
       "      <td>16</td>\n",
       "      <td>18</td>\n",
       "    </tr>\n",
       "  </tbody>\n",
       "</table>\n",
       "</div>"
      ],
      "text/plain": [
       "converted           no  yes\n",
       "language_preferred         \n",
       "English             11   21\n",
       "French              19   15\n",
       "Spanish             16   18"
      ]
     },
     "execution_count": 159,
     "metadata": {},
     "output_type": "execute_result"
    }
   ],
   "source": [
    "# For chi-square test we need to create a contingency table for categorical columns\n",
    "contingency_table = pd.crosstab(data['language_preferred'], data['converted'])\n",
    "contingency_table"
   ]
  },
  {
   "cell_type": "code",
   "execution_count": 160,
   "id": "c5539af5-b234-4b18-9f70-c0f2abb700c8",
   "metadata": {},
   "outputs": [
    {
     "data": {
      "text/plain": [
       "0.212989"
      ]
     },
     "execution_count": 160,
     "metadata": {},
     "output_type": "execute_result"
    }
   ],
   "source": [
    "from scipy.stats import chi2_contingency\n",
    "# Perform the Chi-square test\n",
    "chi2, p_value, dof, expected = chi2_contingency(contingency_table)\n",
    "p_value.round(6)"
   ]
  },
  {
   "cell_type": "markdown",
   "id": "36cc2026-dc5c-4db3-9849-f52acb54aa0c",
   "metadata": {},
   "source": [
    "**Inference based on p value**"
   ]
  },
  {
   "cell_type": "code",
   "execution_count": 161,
   "id": "14e7c7da-fda1-47a0-b303-e6b7d30af55f",
   "metadata": {},
   "outputs": [
    {
     "name": "stdout",
     "output_type": "stream",
     "text": [
      "calculated p Value is greater than 0.05 - Fail to reject the null hypothesis\n",
      "We dont have enough statistical evidence to say that the language_preferred is dependent on converted data\n"
     ]
    }
   ],
   "source": [
    "# Compare the level of significance with calculated p value\n",
    "if p_value < 0.05:\n",
    "    print(\"calculated p Value is less than 0.05 - Reject the null hypothesis\")\n",
    "    print(\"We have enough statistical evidence to say that the language_preferred  is dependent on converted data\")\n",
    "else:\n",
    "    print(\"calculated p Value is greater than 0.05 - Fail to reject the null hypothesis\")\n",
    "    print(\"We dont have enough statistical evidence to say that the language_preferred is dependent on converted data\")"
   ]
  },
  {
   "cell_type": "markdown",
   "id": "d9d09b3a-5d0e-4fbb-83fc-a49f290ee2a3",
   "metadata": {},
   "source": [
    "* As the calculated p level is greater than level of significance, we reject the null hypothesis and this implies language_preferred and converted are independent of each other."
   ]
  },
  {
   "cell_type": "markdown",
   "id": "21a37fb5-50b8-44de-b303-c2a5b0436f45",
   "metadata": {},
   "source": [
    "### Is the mean time spent on the new page same for the different language users?"
   ]
  },
  {
   "cell_type": "markdown",
   "id": "b8636113-78bd-4150-8bd5-33057076389a",
   "metadata": {},
   "source": [
    "**Perform Visual Analysis**"
   ]
  },
  {
   "cell_type": "code",
   "execution_count": 162,
   "id": "cf0b5a53-96dd-4415-ae5e-9d4fd29aad80",
   "metadata": {},
   "outputs": [
    {
     "data": {
      "image/png": "[encoded data removed]",
      "text/plain": [
       "<Figure size 640x480 with 1 Axes>"
      ]
     },
     "metadata": {},
     "output_type": "display_data"
    }
   ],
   "source": [
    "# Draw box plot to understand relation between language_preferred and time_spent_on_the_page after fetching dataset only for new landing page\n",
    "data_new = data[data['landing_page']=='new']\n",
    "sns.boxplot(x = 'language_preferred', data = data_new,  y='time_spent_on_the_page' , palette = 'viridis', hue = 'language_preferred')\n",
    "plt.show()"
   ]
  },
  {
   "cell_type": "code",
   "execution_count": 163,
   "id": "c53cebab-6229-4d88-adb4-6fbd07d4c4f6",
   "metadata": {},
   "outputs": [
    {
     "data": {
      "text/plain": [
       "language_preferred\n",
       "English    6.663750\n",
       "French     6.196471\n",
       "Spanish    5.835294\n",
       "Name: time_spent_on_the_page, dtype: float64"
      ]
     },
     "execution_count": 163,
     "metadata": {},
     "output_type": "execute_result"
    }
   ],
   "source": [
    "#calculate mean\n",
    "data_new.groupby(['language_preferred'])['time_spent_on_the_page'].mean()"
   ]
  },
  {
   "cell_type": "markdown",
   "id": "8693c74e-79c2-459f-9b4c-a36169725fda",
   "metadata": {},
   "source": [
    "* Mean w.r.to time spent on the page for language preferred is almost same (rounding off to decimals)"
   ]
  },
  {
   "cell_type": "markdown",
   "id": "84f48593-acfc-41b1-aca3-2f264427411b",
   "metadata": {},
   "source": [
    "**Formulate null and alternative hypothesis**"
   ]
  },
  {
   "cell_type": "markdown",
   "id": "7e1aeff1-15fd-4d39-8721-ee827d4c4e18",
   "metadata": {},
   "source": [
    "Let $\\mu_1, \\mu_2, \\mu_3$ be the means of time spent on the new landing page for Spanish, English, French respectively\n",
    "\n",
    "Null hypothesis\n",
    "\n",
    ">$H_0:  \\mu_1 = \\mu_2 = \\mu_3 $\n",
    "\n",
    "Alternative hypothesis\n",
    "\n",
    ">$H_a: $ Atleast one of the mean times spent on the new landing page is different from other."
   ]
  },
  {
   "cell_type": "markdown",
   "id": "45168684-83c5-4bb1-971c-769f3fc9f114",
   "metadata": {},
   "source": [
    "**Identifying test scenario**"
   ]
  },
  {
   "cell_type": "markdown",
   "id": "b19b3035-a1e0-4904-908d-d13e1dfa80ac",
   "metadata": {},
   "source": [
    "* To test whether the means of three or more populations are equal, generally Analysis of Variance (ANOVA) will be used. ANOVA assesses whether there are any statistically significant differences between the means of three or more independent (unrelated) groups. In this scenario, ANOVA test is suitable."
   ]
  },
  {
   "cell_type": "markdown",
   "id": "6802ec0b-25d3-4661-aff3-bf73080cc77a",
   "metadata": {},
   "source": [
    "**Calculate p-value**"
   ]
  },
  {
   "cell_type": "markdown",
   "id": "348309fa-b7bd-4cc9-a4fc-2b72f326ae10",
   "metadata": {},
   "source": [
    "Use level of significance = 0.05"
   ]
  },
  {
   "cell_type": "code",
   "execution_count": 164,
   "id": "c648f13f-7563-4c08-a1c4-ff0093fd5bf7",
   "metadata": {},
   "outputs": [],
   "source": [
    "english_time_spent=data_new[data_new['language_preferred']=='English']['time_spent_on_the_page']\n",
    "spanish_time_spent=data_new[data_new['language_preferred']=='Spanish']['time_spent_on_the_page']\n",
    "french_time_spent=data_new[data_new['language_preferred']=='French']['time_spent_on_the_page']"
   ]
  },
  {
   "cell_type": "code",
   "execution_count": 165,
   "id": "b656376d-c5a7-447b-b926-9045e25c9463",
   "metadata": {},
   "outputs": [
    {
     "data": {
      "text/plain": [
       "0.432041"
      ]
     },
     "execution_count": 165,
     "metadata": {},
     "output_type": "execute_result"
    }
   ],
   "source": [
    "from scipy.stats import f_oneway\n",
    "\n",
    "# Perform one-way ANOVA\n",
    "f_statistic, p_value = f_oneway(english_time_spent, spanish_time_spent, french_time_spent)\n",
    "p_value.round(6)"
   ]
  },
  {
   "cell_type": "markdown",
   "id": "6d065364-1916-4bf3-a769-6955b52a642c",
   "metadata": {},
   "source": [
    "**Inference based on p value**"
   ]
  },
  {
   "cell_type": "code",
   "execution_count": 166,
   "id": "22ff2ee8-c412-4580-a7aa-6a31589e23e1",
   "metadata": {},
   "outputs": [
    {
     "name": "stdout",
     "output_type": "stream",
     "text": [
      "calculated p Value is greater than 0.05 - Fail to reject the null hypothesis\n",
      "We dont have enough statistical evidence to say that that the average time spent on new landing page is not same for different language users\n"
     ]
    }
   ],
   "source": [
    "# Compare the level of significance with calculated p value\n",
    "if p_value < 0.05:\n",
    "    print(\"calculated p Value is less than 0.05 - Reject the null hypothesis\")\n",
    "    print(\"We have enough statistical evidence to say that the average time spent on new landing page is not same for different language users\")\n",
    "else:\n",
    "    print(\"calculated p Value is greater than 0.05 - Fail to reject the null hypothesis\")\n",
    "    print(\"We dont have enough statistical evidence to say that that the average time spent on new landing page is not same for different language users\")"
   ]
  },
  {
   "cell_type": "markdown",
   "id": "4828fc71-de6c-44f6-b3a1-d0c4982dfd65",
   "metadata": {},
   "source": [
    "* As the calculated p level is greater than level of significance, we reject the null hypothesis and this implies average time spent on new landing page is almost same for different language users"
   ]
  },
  {
   "cell_type": "markdown",
   "id": "61476144-f2ed-4240-9b8d-68d3b2a19efd",
   "metadata": {},
   "source": [
    "### Conclusion"
   ]
  },
  {
   "cell_type": "markdown",
   "id": "d696bda0-aeaf-462c-a414-d831e3252f7f",
   "metadata": {},
   "source": [
    "**Do the users spend more time on the new landing page than the old landing page?**\n",
    "* To determine if users spend more time on the new landing page compared to the existing one, a two-sample independent t-test was conducted. The test yielded a p-value of 0.0001, which is less than the 5% significance level. Consequently, the null hypothesis is rejected. This implies that there is significant evidence to support the claim that users spend more time on the new landing page than on the old one.\n",
    "  \n",
    "**Is the conversion rate (the proportion of users who visit the landing page and get converted) for the new page greater than the conversion rate for the old page?**\n",
    "* To determine if the conversion rate for the new landing page is higher than that of the old page, a two-proportion z-test was conducted. The test yielded a p-value of 0.008, which is less than the 5% significance level. Consequently, the null hypothesis is rejected. This implies that there is significant evidence to suggest that the conversion rate for the new landing page is higher than that for the old landing page.\n",
    "  \n",
    "**Does the converted status depend on the preferred language?**\n",
    "* To determine if conversion status is dependent on preferred language or not, a chi-square test for independence was conducted. The test yielded a p-value of 0.2129, which is greater than the 5% significance level. Consequently, the null hypothesis is not rejected. This implies that there is no significant evidence to suggest that conversion status and the preferred language of the landing page are related; they appear to be independent of each other.\n",
    "  \n",
    "**Is the mean time spent on the new page same for the different language users?**\n",
    "* To determine if the time spent on the new landing page is same for different language users, a one-way ANOVA test was conducted. The test yielded a p-value of 0.432, which is greater the 5% significance level. Consequently, the null hypothesis is not rejected. This implies that the mean time spent on the new landing page is relatively same for all language users.\n"
   ]
  }
 ],
 "metadata": {
  "kernelspec": {
   "display_name": "Python (testenv)",
   "language": "python",
   "name": "testenv"
  },
  "language_info": {
   "codemirror_mode": {
    "name": "ipython",
    "version": 3
   },
   "file_extension": ".py",
   "mimetype": "text/x-python",
   "name": "python",
   "nbconvert_exporter": "python",
   "pygments_lexer": "ipython3",
   "version": "3.11.8"
  }
 },
 "nbformat": 4,
 "nbformat_minor": 5
}
